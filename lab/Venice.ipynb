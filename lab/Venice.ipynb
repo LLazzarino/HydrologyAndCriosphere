{
 "cells": [
  {
   "cell_type": "markdown",
   "metadata": {},
   "source": [
    "https://www.ismar.cnr.it/venezia-acqua-alta/approfondimenti/#:~:text=Si%20simula%20quindi%20la%20circolazione,l'acqua%20alta%20a%20Venezia."
   ]
  },
  {
   "cell_type": "markdown",
   "metadata": {},
   "source": []
  }
 ],
 "metadata": {
  "language_info": {
   "name": "python"
  }
 },
 "nbformat": 4,
 "nbformat_minor": 2
}
